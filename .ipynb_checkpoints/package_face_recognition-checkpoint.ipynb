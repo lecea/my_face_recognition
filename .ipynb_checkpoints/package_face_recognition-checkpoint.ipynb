{
 "cells": [
  {
   "cell_type": "code",
   "execution_count": null,
   "metadata": {
    "collapsed": true
   },
   "outputs": [],
   "source": [
    "# -*- coding: utf-8 -*-\n",
    "# \n",
    "\n",
    "# 检测人脸\n",
    "import face_recognition\n",
    "import cv2"
   ]
  },
  {
   "cell_type": "code",
   "execution_count": null,
   "metadata": {},
   "outputs": [],
   "source": [
    "# 读取图片并识别人脸\n",
    "img = face_recognition.load_image_file(\"exo.jpeg\")\n",
    "face_locations = face_recognition.face_locations(img)\n",
    "print face_locations"
   ]
  },
  {
   "cell_type": "code",
   "execution_count": null,
   "metadata": {
    "collapsed": true
   },
   "outputs": [],
   "source": [
    "# 调用opencv函数显示图片\n",
    "img = cv2.imread(\"exo.jpeg\")\n",
    "cv2.namedWindow(\"origin image\")\n",
    "cv2.imshow(\"origin image\", img)"
   ]
  },
  {
   "cell_type": "code",
   "execution_count": null,
   "metadata": {
    "collapsed": true
   },
   "outputs": [],
   "source": [
    "# 遍历每个人脸，并标注\n",
    "faceNum = len(face_locations)\n",
    "for i in range(0, faceNum):\n",
    "    top =  face_locations[i][0]\n",
    "    right =  face_locations[i][1]\n",
    "    bottom = face_locations[i][2]\n",
    "    left = face_locations[i][3]\n",
    "\n",
    "    start = (left, top)\n",
    "    end = (right, bottom)\n",
    "\n",
    "    color = (55,255,155)\n",
    "    thickness = 3\n",
    "    cv2.rectangle(img, start, end, color, thickness)"
   ]
  },
  {
   "cell_type": "code",
   "execution_count": null,
   "metadata": {
    "collapsed": true
   },
   "outputs": [],
   "source": [
    "# 显示识别结果\n",
    "cv2.namedWindow(\"recognition result\")\n",
    "cv2.imshow(\"recognition result\", img)\n",
    "\n",
    "cv2.waitKey(0)\n",
    "cv2.destroyAllWindows()"
   ]
  },
  {
   "cell_type": "code",
   "execution_count": null,
   "metadata": {
    "collapsed": true
   },
   "outputs": [],
   "source": []
  }
 ],
 "metadata": {
  "kernelspec": {
   "display_name": "Python 2",
   "language": "python",
   "name": "python2"
  },
  "language_info": {
   "codemirror_mode": {
    "name": "ipython",
    "version": 2
   },
   "file_extension": ".py",
   "mimetype": "text/x-python",
   "name": "python",
   "nbconvert_exporter": "python",
   "pygments_lexer": "ipython2",
   "version": "2.7.13"
  }
 },
 "nbformat": 4,
 "nbformat_minor": 2
}
