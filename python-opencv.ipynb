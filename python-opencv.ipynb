{
 "cells": [
  {
   "cell_type": "code",
   "execution_count": 1,
   "metadata": {
    "collapsed": true
   },
   "outputs": [],
   "source": [
    "import numpy as np\n",
    "import cv2\n",
    "import matplotlib.pyplot as plt\n",
    "\n",
    "def detectFaces(image_name):\n",
    "    img = cv2.imread(image_name)\n",
    "    face_cascade = cv2.CascadeClassifier(\"/usr/share/opencv/haarcascades/haarcascade_frontalface_default.xml\")\n",
    "    if img.ndim == 3:\n",
    "        gray = cv2.cvtColor(img, cv2.COLOR_BGR2GRAY)\n",
    "    else:\n",
    "        gray = img #if语句：如果img维度为3，说明不是灰度图，先转化为灰度图gray，如果不为3，也就是2，原图就是灰度图\n",
    "\n",
    "    faces = face_cascade.detectMultiScale(gray, 1.2, 5)#1.3和5是特征的最小、最大检测窗口，它改变检测结果也会改变\n",
    "    result = []\n",
    "    for (x,y,width,height) in faces:\n",
    "        result.append((x,y,x+width,y+height))\n",
    "    return result"
   ]
  },
  {
   "cell_type": "code",
   "execution_count": 2,
   "metadata": {
    "collapsed": true
   },
   "outputs": [],
   "source": [
    "def saveFaces(image_name):\n",
    "    faces = detectFaces(image_name)\n",
    "    if faces:\n",
    "        #将人脸保存在save_dir目录下。\n",
    "        #Image模块：Image.open获取图像句柄，crop剪切图像(剪切的区域就是detectFaces返回的坐标)，save保存。\n",
    "        save_dir = image_name.split('.')[0]+\"_faces\"\n",
    "        os.mkdir(save_dir)\n",
    "        count = 0\n",
    "        for (x1,y1,x2,y2) in faces:\n",
    "            file_name = os.path.join(save_dir,str(count)+\".jpg\")\n",
    "            Image.open(image_name).crop((x1,y1,x2,y2)).save(file_name)\n",
    "            count+=1"
   ]
  },
  {
   "cell_type": "code",
   "execution_count": 3,
   "metadata": {
    "collapsed": true
   },
   "outputs": [],
   "source": [
    "def drawFaces(image_name):\n",
    "    faces = detectFaces(image_name)\n",
    "    if faces:\n",
    "        img = Image.open(image_name)\n",
    "        draw_instance = ImageDraw.Draw(img)\n",
    "        for (x1,y1,x2,y2) in faces:\n",
    "            draw_instance.rectangle((x1,y1,x2,y2), outline=(255, 0,0))\n",
    "        img.save('drawfaces_'+image_name)"
   ]
  },
  {
   "cell_type": "code",
   "execution_count": 6,
   "metadata": {
    "collapsed": true
   },
   "outputs": [],
   "source": [
    "from PIL import Image"
   ]
  },
  {
   "cell_type": "code",
   "execution_count": 8,
   "metadata": {
    "collapsed": true
   },
   "outputs": [],
   "source": [
    "from PIL import ImageDraw"
   ]
  },
  {
   "cell_type": "code",
   "execution_count": 9,
   "metadata": {
    "collapsed": true
   },
   "outputs": [],
   "source": [
    "drawFaces('exo.jpeg')"
   ]
  },
  {
   "cell_type": "code",
   "execution_count": 11,
   "metadata": {
    "collapsed": true
   },
   "outputs": [],
   "source": [
    "import os"
   ]
  },
  {
   "cell_type": "code",
   "execution_count": 12,
   "metadata": {
    "collapsed": true
   },
   "outputs": [],
   "source": [
    "saveFaces('exo.jpeg')"
   ]
  },
  {
   "cell_type": "code",
   "execution_count": 13,
   "metadata": {
    "collapsed": true
   },
   "outputs": [],
   "source": [
    "def detectEyes(image_name):\n",
    "    eye_cascade = cv2.CascadeClassifier('/usr/share/opencv/haarcascades/haarcascade_eye.xml')\n",
    "    faces = detectFaces(image_name)\n",
    "\n",
    "    img = cv2.imread(image_name)\n",
    "    gray = cv2.cvtColor(img, cv2.COLOR_BGR2GRAY)\n",
    "    result = []\n",
    "    for (x1,y1,x2,y2) in faces:\n",
    "        roi_gray = gray[y1:y2, x1:x2]\n",
    "        eyes = eye_cascade.detectMultiScale(roi_gray,1.3,2)\n",
    "        for (ex,ey,ew,eh) in eyes:\n",
    "            result.append((x1+ex,y1+ey,x1+ex+ew,y1+ey+eh))\n",
    "    return result"
   ]
  },
  {
   "cell_type": "code",
   "execution_count": 14,
   "metadata": {
    "collapsed": true
   },
   "outputs": [],
   "source": [
    "def drawEyes(image_name):\n",
    "    eyes = detectEyes(image_name)\n",
    "    if eyes:\n",
    "        img = Image.open(image_name)\n",
    "        draw_instance = ImageDraw.Draw(img)\n",
    "        for (x1,y1,x2,y2) in eyes:\n",
    "            draw_instance.rectangle((x1,y1,x2,y2), outline=(0, 0,255))\n",
    "        img.save('draweyes_'+image_name)"
   ]
  },
  {
   "cell_type": "code",
   "execution_count": 16,
   "metadata": {
    "collapsed": true
   },
   "outputs": [],
   "source": [
    "drawEyes('wyf.jpg')"
   ]
  },
  {
   "cell_type": "code",
   "execution_count": 17,
   "metadata": {
    "collapsed": true
   },
   "outputs": [],
   "source": [
    "def detectSmiles(image_name):\n",
    "    img = cv2.imread(image_name)\n",
    "    smiles_cascade = cv2.CascadeClassifier(\"/usr/share/opencv/haarcascades/haarcascade_smile.xml\")\n",
    "    if img.ndim == 3:\n",
    "        gray = cv2.cvtColor(img, cv2.COLOR_BGR2GRAY)\n",
    "    else:\n",
    "        gray = img #if语句：如果img维度为3，说明不是灰度图，先转化为灰度图gray，如果不为3，也就是2，原图就是灰度图\n",
    "\n",
    "    smiles = smiles_cascade.detectMultiScale(gray,4,5)\n",
    "    result = []\n",
    "    for (x,y,width,height) in smiles:\n",
    "        result.append((x,y,x+width,y+height))\n",
    "    return result"
   ]
  },
  {
   "cell_type": "code",
   "execution_count": 18,
   "metadata": {
    "collapsed": true
   },
   "outputs": [],
   "source": [
    "def drawSmiles(image_name):\n",
    "    smiles = detectSmiles(image_name)\n",
    "    if smiles:\n",
    "        img = Image.open(image_name)\n",
    "        draw_instance = ImageDraw.Draw(img)\n",
    "        for (x1,y1,x2,y2) in smiles:\n",
    "            draw_instance.rectangle((x1,y1,x2,y2), outline=(100, 100,0))\n",
    "        img.save('drawsmiles_'+image_name)"
   ]
  },
  {
   "cell_type": "code",
   "execution_count": 24,
   "metadata": {
    "collapsed": true
   },
   "outputs": [],
   "source": [
    "drawSmiles('exo.jpeg')"
   ]
  },
  {
   "cell_type": "code",
   "execution_count": null,
   "metadata": {
    "collapsed": true
   },
   "outputs": [],
   "source": []
  }
 ],
 "metadata": {
  "kernelspec": {
   "display_name": "Python 2",
   "language": "python",
   "name": "python2"
  },
  "language_info": {
   "codemirror_mode": {
    "name": "ipython",
    "version": 2
   },
   "file_extension": ".py",
   "mimetype": "text/x-python",
   "name": "python",
   "nbconvert_exporter": "python",
   "pygments_lexer": "ipython2",
   "version": "2.7.13"
  }
 },
 "nbformat": 4,
 "nbformat_minor": 2
}
